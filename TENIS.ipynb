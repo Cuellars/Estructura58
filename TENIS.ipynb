{
  "nbformat": 4,
  "nbformat_minor": 0,
  "metadata": {
    "colab": {
      "name": "TENIS",
      "provenance": [],
      "authorship_tag": "ABX9TyNcJOqDGPYw4PcjLnAc6iHd",
      "include_colab_link": true
    },
    "kernelspec": {
      "name": "python3",
      "display_name": "Python 3"
    },
    "language_info": {
      "name": "python"
    }
  },
  "cells": [
    {
      "cell_type": "markdown",
      "metadata": {
        "id": "view-in-github",
        "colab_type": "text"
      },
      "source": [
        "<a href=\"https://colab.research.google.com/github/Cuellars/Estructura58/blob/main/TENIS.ipynb\" target=\"_parent\"><img src=\"https://colab.research.google.com/assets/colab-badge.svg\" alt=\"Open In Colab\"/></a>"
      ]
    },
    {
      "cell_type": "code",
      "metadata": {
        "colab": {
          "base_uri": "https://localhost:8080/",
          "height": 129
        },
        "id": "RrWJT_10nvbf",
        "outputId": "bd6e2e25-7a81-45f1-d534-f5f82d16c29b"
      },
      "source": [
        "#include <iostream>\n",
        "using namespace std;\n",
        "\n",
        "int main()\n",
        "{\n",
        " int p1 = 0;\n",
        " int p2 = 0;\n",
        " bool p = true;\n",
        " int picker = 0;\n",
        "\n",
        " while(p)\n",
        " {\n",
        "    cout<<\"Es un juego de tennis y ambos jugadores tienen puntaje de J1:\"<<p1<<\" y J2: \"<<p2<<endl;\n",
        "    cout<<\"En este round, quien anota un punto? (1, 2 o 0 para nadie)\"<<endl;\n",
        "    cin>>picker;\n",
        "\n",
        "    if((p1 > p2) && p1 == 30 && picker == 1)\n",
        "    {\n",
        "        p1 -= 5;\n",
        "    }\n",
        "    else if ((p2 > p1) && p2 == 30 && picker == 2)\n",
        "    {\n",
        "        p2 -= 5;\n",
        "    }\n",
        "    switch(picker)\n",
        "    {\n",
        "        case 0:\n",
        "            break;\n",
        "        case 1:\n",
        "            p1 += 15;\n",
        "            break;\n",
        "        case 2:\n",
        "            p2 += 15;\n",
        "            break;\n",
        "    }\n",
        "    if(p1 >= 50 || p2 >= 50 )\n",
        "    {\n",
        "        p = false;\n",
        "    }\n",
        "}\n",
        " return 0;\n",
        "}"
      ],
      "execution_count": 3,
      "outputs": [
        {
          "output_type": "error",
          "ename": "IndentationError",
          "evalue": "ignored",
          "traceback": [
            "\u001b[0;36m  File \u001b[0;32m\"<ipython-input-3-63f53dbbf90a>\"\u001b[0;36m, line \u001b[0;32m2\u001b[0m\n\u001b[0;31m    namespace std;\u001b[0m\n\u001b[0m    ^\u001b[0m\n\u001b[0;31mIndentationError\u001b[0m\u001b[0;31m:\u001b[0m unexpected indent\n"
          ]
        }
      ]
    }
  ]
}