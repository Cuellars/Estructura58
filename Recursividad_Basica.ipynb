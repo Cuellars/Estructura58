{
  "nbformat": 4,
  "nbformat_minor": 0,
  "metadata": {
    "colab": {
      "name": "Recursividad Basica",
      "provenance": [],
      "authorship_tag": "ABX9TyPXK/Y7Yt2DNqboaZSEDSmG",
      "include_colab_link": true
    },
    "kernelspec": {
      "name": "python3",
      "display_name": "Python 3"
    },
    "language_info": {
      "name": "python"
    }
  },
  "cells": [
    {
      "cell_type": "markdown",
      "metadata": {
        "id": "view-in-github",
        "colab_type": "text"
      },
      "source": [
        "<a href=\"https://colab.research.google.com/github/Cuellars/Estructura58/blob/main/Recursividad_Basica.ipynb\" target=\"_parent\"><img src=\"https://colab.research.google.com/assets/colab-badge.svg\" alt=\"Open In Colab\"/></a>"
      ]
    },
    {
      "cell_type": "code",
      "metadata": {
        "id": "QD3DrPQalb1c"
      },
      "source": [
        "n - 3\n",
        "\n",
        "def factorial(n) :\n",
        "    resultdo = 0\n",
        "    if n == 0:\n",
        "      return = 1\n",
        "    else: \n",
        "      return * factorial(n - 1) \n",
        "\n",
        "n = 3\n",
        "  print(factorial ( n ))\n",
        "  "
      ],
      "execution_count": null,
      "outputs": []
    },
    {
      "cell_type": "code",
      "metadata": {
        "id": "v1g-n7NUnLID"
      },
      "source": [
        "def printRev( n ):          #3    2      1      \n",
        "    if n > 0:\n",
        "      print( n )\n",
        "      printRev( n - 1)\n",
        "\n",
        "n = 3\n",
        "printRev( n )"
      ],
      "execution_count": null,
      "outputs": []
    },
    {
      "cell_type": "code",
      "metadata": {
        "id": "_ieZ9s5JnPYp"
      },
      "source": [
        "def printRev( n ):          #3    2      1      \n",
        "    if n > 0:\n",
        "     \n",
        "      printRev( n - 1)\n",
        "      print( n )\n",
        "n = 3\n",
        "printRev( n )"
      ],
      "execution_count": null,
      "outputs": []
    },
    {
      "cell_type": "code",
      "metadata": {
        "id": "8-WMtPopnTHA"
      },
      "source": [
        "def fibonachi(n):\n",
        "  if n == 0:\n",
        "    return 0\n",
        "  if n == 1:\n",
        "    return 1\n",
        "  if n > 1:\n",
        "    return fibonachi(n - 1) + fibonachi(n-2)   \n",
        "   "
      ],
      "execution_count": null,
      "outputs": []
    },
    {
      "cell_type": "code",
      "metadata": {
        "id": "vcv3Fa7LnW7-"
      },
      "source": [
        "def fibonachi(n):\n",
        "  if n <= 1:\n",
        "      return n\n",
        "  else: \n",
        "    return (fibonachi(n - 1) + fibonachi(n-2))\n",
        "  \n",
        "  for n in range(20):\n",
        "      print(fibonacci(n))"
      ],
      "execution_count": null,
      "outputs": []
    }
  ]
}